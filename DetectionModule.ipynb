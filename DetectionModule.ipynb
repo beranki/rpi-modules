{
 "cells": [
  {
   "cell_type": "code",
   "execution_count": 2,
   "metadata": {},
   "outputs": [
    {
     "name": "stdout",
     "output_type": "stream",
     "text": [
      "Requirement already satisfied: opencv-python in c:\\users\\bharg\\appdata\\local\\packages\\pythonsoftwarefoundation.python.3.11_qbz5n2kfra8p0\\localcache\\local-packages\\python311\\site-packages (4.8.0.74)\n",
      "Requirement already satisfied: numpy>=1.21.2 in c:\\users\\bharg\\appdata\\local\\packages\\pythonsoftwarefoundation.python.3.11_qbz5n2kfra8p0\\localcache\\local-packages\\python311\\site-packages (from opencv-python) (1.25.2)\n",
      "Collecting python-math\n",
      "  Downloading python_math-0.0.1-py3-none-any.whl (2.4 kB)\n",
      "Installing collected packages: python-math\n",
      "Successfully installed python-math-0.0.1\n"
     ]
    }
   ],
   "source": [
    "!pip install opencv-python\n",
    "!pip install python-math"
   ]
  },
  {
   "cell_type": "code",
   "execution_count": 3,
   "metadata": {},
   "outputs": [],
   "source": [
    "import cv2\n",
    "import math"
   ]
  },
  {
   "cell_type": "code",
   "execution_count": 4,
   "metadata": {},
   "outputs": [],
   "source": [
    "class Detector:\n",
    "    pass"
   ]
  },
  {
   "cell_type": "code",
   "execution_count": null,
   "metadata": {},
   "outputs": [],
   "source": [
    "class Target:\n",
    "        def __init__(self, contour, target_type):\n",
    "        self.contour = contour\n",
    "        self.target_type = target_type\n",
    "   \n",
    "    def getType(self):\n",
    "        return self.target_type\n",
    "\n",
    "    def getContour(self):\n",
    "        return self.contour\n",
    "    \n",
    "    def computeYawAngle(R):\n",
    "        pass\n",
    "\n",
    "    def computePitchAngle(R):\n",
    "        pass"
   ]
  }
 ],
 "metadata": {
  "kernelspec": {
   "display_name": "Python 3",
   "language": "python",
   "name": "python3"
  },
  "language_info": {
   "codemirror_mode": {
    "name": "ipython",
    "version": 3
   },
   "file_extension": ".py",
   "mimetype": "text/x-python",
   "name": "python",
   "nbconvert_exporter": "python",
   "pygments_lexer": "ipython3",
   "version": "3.11.4"
  },
  "orig_nbformat": 4
 },
 "nbformat": 4,
 "nbformat_minor": 2
}
