{
 "cells": [
  {
   "cell_type": "code",
   "execution_count": null,
   "metadata": {},
   "outputs": [],
   "source": [
    "class Detector:\n",
    "    import cv2\n",
    "    import math\n",
    "    def __init__(self, contour, target_type):\n",
    "        self.contour = contour\n",
    "        self.target_type = target_type\n",
    "   \n",
    "    def getType(self):\n",
    "        return self.target_type\n",
    "\n",
    "    def getContour(self):\n",
    "        return self.contour\n",
    "    \n",
    "    def computeYawAngle(R):\n",
    "        import math\n",
    "        import numpy as np\n",
    "        sin_x    = math.sqrt(R[2,0] * R[2,0] +  R[2,1] * R[2,1])    \n",
    "        validity  = sin_x < 1e-6\n",
    "        if not singular:\n",
    "            z1    = math.atan2(R[2,0], R[2,1])     # around z1-axis\n",
    "            x      = math.atan2(sin_x,  R[2,2])     # around x-axis\n",
    "            z2    = math.atan2(R[0,2], -R[1,2])    # around z2-axis\n",
    "        else: # gimbal lock\n",
    "            z1    = 0                                         # around z1-axis\n",
    "            x      = math.atan2(sin_x,  R[2,2])     # around x-axis\n",
    "            z2    = 0                                         # around z2-axis\n",
    "\n",
    "        return np.array([[z1], [x], [z2]])\n",
    "\n",
    "        yawpitchroll_angles = -180*yawpitchrolldecomposition(rmat)/math.pi\n",
    "        yawpitchroll_angles[0,0] = (360-yawpitchroll_angles[0,0])%360 # change rotation sense if needed, comment this line otherwise\n",
    "        yawpitchroll_angles[1,0] = yawpitchroll_angles[1,0]+90\n",
    "\n",
    "\n"
   ]
  },
  {
   "cell_type": "code",
   "execution_count": null,
   "metadata": {},
   "outputs": [],
   "source": [
    "class Target:\n",
    "    "
   ]
  }
 ],
 "metadata": {
  "language_info": {
   "name": "python"
  },
  "orig_nbformat": 4
 },
 "nbformat": 4,
 "nbformat_minor": 2
}
